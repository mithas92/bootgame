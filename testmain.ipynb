{
 "cells": [
  {
   "cell_type": "code",
   "execution_count": 1,
   "id": "fc4da0b3",
   "metadata": {},
   "outputs": [
    {
     "name": "stdout",
     "output_type": "stream",
     "text": [
      "pygame 2.6.1 (SDL 2.28.4, Python 3.12.7)\n",
      "Hello from the pygame community. https://www.pygame.org/contribute.html\n"
     ]
    }
   ],
   "source": [
    "# imports\n",
    "import pygame\n",
    "import sys\n",
    "from constants import *\n",
    "from player import Player\n",
    "from asteroid import Asteroid\n",
    "from asteroidfield import AsteroidField\n"
   ]
  },
  {
   "cell_type": "code",
   "execution_count": 2,
   "id": "195ef07e",
   "metadata": {},
   "outputs": [
    {
     "name": "stdout",
     "output_type": "stream",
     "text": [
      "Starting Asteroids!\n",
      "Screen width: 1280\n",
      "Screen height: 720\n"
     ]
    }
   ],
   "source": [
    "# Setup\n",
    "\n",
    "print(\"Starting Asteroids!\")\n",
    "print(f\"Screen width: {SCREEN_WIDTH}\")\n",
    "print(f\"Screen height: {SCREEN_HEIGHT}\")\n",
    "\n",
    "pygame.init()\n",
    "game_clock = pygame.time.Clock()\n",
    "dt = 0\n",
    "\n",
    "screen = pygame.display.set_mode((SCREEN_WIDTH, SCREEN_HEIGHT))\n",
    "\n",
    "updatable = pygame.sprite.Group()\n",
    "drawable = pygame.sprite.Group()\n",
    "asteroids = pygame.sprite.Group()\n",
    "\n",
    "Player.containers = (updatable, drawable)\n",
    "Asteroid.containers = (asteroids, updatable, drawable)\n",
    "AsteroidField.containers = (updatable)\n",
    "\n",
    "player1 = Player(SCREEN_WIDTH/2, SCREEN_HEIGHT/2)\n",
    "the_asteroids_field = AsteroidField()\n"
   ]
  },
  {
   "cell_type": "code",
   "execution_count": null,
   "id": "5cc388c8",
   "metadata": {},
   "outputs": [
    {
     "ename": "SystemExit",
     "evalue": "Game over!",
     "output_type": "error",
     "traceback": [
      "An exception has occurred, use %tb to see the full traceback.\n",
      "\u001b[0;31mSystemExit\u001b[0m\u001b[0;31m:\u001b[0m Game over!\n"
     ]
    },
    {
     "name": "stderr",
     "output_type": "stream",
     "text": [
      "/opt/anaconda3/envs/bootgame/lib/python3.12/site-packages/IPython/core/interactiveshell.py:3585: UserWarning: To exit: use 'exit', 'quit', or Ctrl-D.\n",
      "  warn(\"To exit: use 'exit', 'quit', or Ctrl-D.\", stacklevel=1)\n"
     ]
    },
    {
     "ename": "",
     "evalue": "",
     "output_type": "error",
     "traceback": [
      "\u001b[1;31mThe Kernel crashed while executing code in the current cell or a previous cell. \n",
      "\u001b[1;31mPlease review the code in the cell(s) to identify a possible cause of the failure. \n",
      "\u001b[1;31mClick <a href='https://aka.ms/vscodeJupyterKernelCrash'>here</a> for more info. \n",
      "\u001b[1;31mView Jupyter <a href='command:jupyter.viewOutput'>log</a> for further details."
     ]
    }
   ],
   "source": [
    "## Don't run this!! for now \n",
    "## it crashes while exiting. \n",
    "\n",
    "\n",
    "while True:\n",
    "    \n",
    "    for event in pygame.event.get():\n",
    "        if event.type == pygame.QUIT:\n",
    "            sys.exit(\"User closed\")\n",
    "            \n",
    "    updatable.update(dt)                 # player1.update(dt)\n",
    "    for ast in asteroids:\n",
    "        if player1.collision(ast):\n",
    "            sys.exit(\"Game over!\")\n",
    "\n",
    "    screen.fill(color=\"black\")\n",
    "    for pl in drawable:\n",
    "        pl.draw(screen)                    #player1.draw(screen)\n",
    "    pygame.display.flip()\n",
    "\n",
    "    dt = game_clock.tick(60)/1000\n"
   ]
  },
  {
   "cell_type": "code",
   "execution_count": null,
   "id": "b43c1e2f",
   "metadata": {},
   "outputs": [],
   "source": []
  }
 ],
 "metadata": {
  "kernelspec": {
   "display_name": "bootgame",
   "language": "python",
   "name": "python3"
  },
  "language_info": {
   "codemirror_mode": {
    "name": "ipython",
    "version": 3
   },
   "file_extension": ".py",
   "mimetype": "text/x-python",
   "name": "python",
   "nbconvert_exporter": "python",
   "pygments_lexer": "ipython3",
   "version": "3.12.7"
  }
 },
 "nbformat": 4,
 "nbformat_minor": 5
}
